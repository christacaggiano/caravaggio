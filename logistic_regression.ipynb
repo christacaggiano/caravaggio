{
 "cells": [
  {
   "cell_type": "code",
   "execution_count": 19,
   "metadata": {},
   "outputs": [],
   "source": [
    "from sklearn.linear_model import LogisticRegression\n",
    "from sklearn.metrics import precision_score, precision_recall_fscore_support, accuracy_score, confusion_matrix\n",
    "import numpy as np\n",
    "from PIL import Image\n",
    "import matplotlib.pyplot as plt \n",
    "import seaborn as sns\n",
    "import pandas as pd\n",
    "import glob"
   ]
  },
  {
   "cell_type": "code",
   "execution_count": 17,
   "metadata": {},
   "outputs": [],
   "source": [
    "sns.set(context='talk', style='white', rc={'figure.facecolor':'white'}, font_scale=1)\n",
    "sns.set_style('ticks')"
   ]
  },
  {
   "cell_type": "code",
   "execution_count": 41,
   "metadata": {},
   "outputs": [],
   "source": [
    "def get_data_labels(directory):\n",
    "    labels = []\n",
    "    data = []\n",
    "    filenames = []\n",
    "\n",
    "    for filename in glob.glob(directory + \"/*_bw_1000x1000.png\"):\n",
    "        filenames.append(filename)\n",
    "        im = Image.open(filename)\n",
    "        img_vals = list(im.getdata())\n",
    "        data.append(img_vals)\n",
    "\n",
    "        if \"Caravaggio\" in filename:\n",
    "            labels.append(1)\n",
    "        else:\n",
    "            labels.append(0)\n",
    "\n",
    "    labels = np.array(labels)\n",
    "    data = np.array(data)\n",
    "\n",
    "    return labels.reshape(labels.shape[0], ), data.reshape(data.shape[0], data.shape[1] * data.shape[2]), filenames"
   ]
  },
  {
   "cell_type": "code",
   "execution_count": null,
   "metadata": {},
   "outputs": [],
   "source": [
    "training_labels, training_data, training_filenames = get_data_labels(\"training_bw\")\n",
    "test_labels, test_data, test_filenames = get_data_labels(\"test_bw\")"
   ]
  },
  {
   "cell_type": "code",
   "execution_count": null,
   "metadata": {},
   "outputs": [],
   "source": [
    "len(training_labels)"
   ]
  },
  {
   "cell_type": "code",
   "execution_count": null,
   "metadata": {},
   "outputs": [],
   "source": [
    "len(test_labels)"
   ]
  },
  {
   "cell_type": "code",
   "execution_count": null,
   "metadata": {},
   "outputs": [],
   "source": [
    "logisticRegr = LogisticRegression(solver=\"lbfgs\", max_iter=1000)\n",
    "logisticRegr.fit(training_data, training_labels)"
   ]
  },
  {
   "cell_type": "code",
   "execution_count": null,
   "metadata": {},
   "outputs": [],
   "source": [
    "predictions = logisticRegr.predict(test_data)\n",
    "score = logisticRegr.score(test_data, test_labels)"
   ]
  },
  {
   "cell_type": "code",
   "execution_count": null,
   "metadata": {},
   "outputs": [],
   "source": [
    "accuracy_score(predictions, test_labels)"
   ]
  },
  {
   "cell_type": "code",
   "execution_count": 38,
   "metadata": {},
   "outputs": [
    {
     "data": {
      "text/plain": [
       "0.42105263157894735"
      ]
     },
     "execution_count": 38,
     "metadata": {},
     "output_type": "execute_result"
    }
   ],
   "source": [
    "precision_score(predictions, test_labels, pos_label=1)"
   ]
  },
  {
   "cell_type": "code",
   "execution_count": 39,
   "metadata": {},
   "outputs": [
    {
     "data": {
      "text/plain": [
       "array([[19,  9],\n",
       "       [11,  8]])"
      ]
     },
     "execution_count": 39,
     "metadata": {},
     "output_type": "execute_result"
    }
   ],
   "source": [
    "cnf_matrix = confusion_matrix(test_labels, predictions)\n",
    "cnf_matrix"
   ]
  },
  {
   "cell_type": "code",
   "execution_count": 40,
   "metadata": {},
   "outputs": [
    {
     "data": {
      "image/png": "[encoded data removed]",
      "text/plain": [
       "<Figure size 432x288 with 2 Axes>"
      ]
     },
     "metadata": {},
     "output_type": "display_data"
    }
   ],
   "source": [
    "sns.heatmap(pd.DataFrame(cnf_matrix), annot=True, cmap=\"YlGnBu\")\n",
    "plt.xlabel(\"model prediction\")\n",
    "plt.ylabel(\"truth\")\n",
    "plt.show()"
   ]
  },
  {
   "cell_type": "code",
   "execution_count": 30,
   "metadata": {},
   "outputs": [
    {
     "name": "stdout",
     "output_type": "stream",
     "text": [
      "test_bw/Caravaggio_66_bw_64x64.png\n",
      "test_bw/A_Gentileschi_6_bw_64x64.png\n",
      "test_bw/Caravaggio_72_bw_64x64.png\n",
      "test_bw/Caravaggio_27_bw_64x64.png\n",
      "test_bw/Caravaggio_4_bw_64x64.png\n",
      "test_bw/Caravaggio_48_bw_64x64.png\n",
      "test_bw/A_Gentileschi_10_bw_64x64.png\n",
      "test_bw/Ribalta_2_bw_64x64.png\n",
      "test_bw/Caravaggio_19_bw_64x64.png\n",
      "test_bw/Rubens_5_bw_64x64.png\n",
      "test_bw/Caravaggio_82_bw_64x64.png\n",
      "test_bw/Caravaggio_77_bw_64x64.png\n",
      "test_bw/Boulogne _2_bw_64x64.png\n",
      "test_bw/Caravaggio_70_bw_64x64.png\n",
      "test_bw/Caravaggio_30_bw_64x64.png\n",
      "test_bw/Caravaggio_62_bw_64x64.png\n",
      "test_bw/Titian_1_bw_64x64.png\n",
      "test_bw/Caravaggio_23_bw_64x64.png\n",
      "test_bw/Giorgione_9_bw_64x64.png\n",
      "test_bw/Titian_7_bw_64x64.png\n"
     ]
    }
   ],
   "source": [
    "for i in range(len(test_labels)): \n",
    "    if not test_labels[i] == predictions[i]: \n",
    "        print(test_filenames[i])"
   ]
  },
  {
   "cell_type": "code",
   "execution_count": null,
   "metadata": {},
   "outputs": [],
   "source": []
  }
 ],
 "metadata": {
  "kernelspec": {
   "display_name": "Python 3",
   "language": "python",
   "name": "python3"
  },
  "language_info": {
   "codemirror_mode": {
    "name": "ipython",
    "version": 3
   },
   "file_extension": ".py",
   "mimetype": "text/x-python",
   "name": "python",
   "nbconvert_exporter": "python",
   "pygments_lexer": "ipython3",
   "version": "3.7.0"
  }
 },
 "nbformat": 4,
 "nbformat_minor": 2
}
